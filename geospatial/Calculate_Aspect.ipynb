{
 "cells": [
  {
   "cell_type": "code",
   "execution_count": null,
   "metadata": {},
   "outputs": [],
   "source": [
    "#with this notebook, you can calculate aspect from dem data."
   ]
  },
  {
   "cell_type": "code",
   "execution_count": 1,
   "metadata": {},
   "outputs": [],
   "source": [
    "from osgeo import gdal,ogr\n",
    "import pandas as pd\n",
    "import geopandas\n",
    "from shapely import wkt\n",
    "from itertools import compress"
   ]
  },
  {
   "cell_type": "code",
   "execution_count": 2,
   "metadata": {},
   "outputs": [],
   "source": [
    "def ListofExtensionAndName(directory,extension):\n",
    "     \n",
    "        if len(directory) != None:\n",
    "            import os\n",
    "            FilesList = []\n",
    "            FileName=[]\n",
    "            for root, subdirectory, files in os.walk(directory):\n",
    "                for file in files:\n",
    "                    if file.endswith(extension):\n",
    "                        FilesList.append(os.path.join(root,file))\n",
    "                        base=os.path.basename(file)\n",
    "                        FileName.append(os.path.splitext(base)[0])\n",
    "\n",
    "            return FilesList,FileName\n",
    "        else:\n",
    "            print(\"no\"+ extension +\"file for this directory\")"
   ]
  },
  {
   "cell_type": "code",
   "execution_count": 3,
   "metadata": {},
   "outputs": [],
   "source": [
    "def ImageBoundry(FilePath):\n",
    "        #for aspect data\n",
    "        imgname=FilePath\n",
    "\n",
    "        from osgeo import gdal,ogr\n",
    "        ds = gdal.Open(FilePath)\n",
    "        gt = ds.GetGeoTransform()  # captures origin and pixel size\n",
    "\n",
    "        ULC = gdal.ApplyGeoTransform(gt, 0, 0) #Upper Left Corner\n",
    "        URC = gdal.ApplyGeoTransform(gt, ds.RasterXSize, 0) #Upper Right Corner\n",
    "        LLC = gdal.ApplyGeoTransform(gt, 0, ds.RasterYSize) #Lower Left Corner\n",
    "        LRC = gdal.ApplyGeoTransform(gt, ds.RasterXSize, ds.RasterYSize) #Lower Right Corner\n",
    "                   \n",
    "        ring = ogr.Geometry(ogr.wkbLinearRing)\n",
    "        ring.AddPoint_2D(ULC[0], ULC[1])\n",
    "        ring.AddPoint_2D(URC[0], URC[1])\n",
    "        ring.AddPoint_2D(LRC[0], LRC[1])\n",
    "        ring.AddPoint_2D(LLC[0], LLC[1])\n",
    "        ring.AddPoint_2D(ULC[0], ULC[1]) \n",
    "        poly=ogr.Geometry(ogr.wkbPolygon)\n",
    "        poly.AddGeometry(ring)\n",
    "        poly.ExportToJson\n",
    "        return poly.ExportToJson() ,imgname"
   ]
  },
  {
   "cell_type": "code",
   "execution_count": null,
   "metadata": {},
   "outputs": [],
   "source": [
    "ImageList=list(ListofExtensionAndName(r\"/data/dem_files\",\".tif\"))\n"
   ]
  },
  {
   "cell_type": "code",
   "execution_count": 153,
   "metadata": {},
   "outputs": [],
   "source": [
    "ImgboundaryList=[]"
   ]
  },
  {
   "cell_type": "code",
   "execution_count": 154,
   "metadata": {},
   "outputs": [],
   "source": [
    "for i in ImageList[0]:\n",
    "    imgboundary=ImageBoundry(i)\n",
    "    gdf_new = geopandas.read_file(imgboundary[0])\n",
    "    ImgboundaryList.append(i)\n",
    "    gdf=gdf.append(gdf_new)\n"
   ]
  },
  {
   "cell_type": "code",
   "execution_count": 170,
   "metadata": {},
   "outputs": [],
   "source": [
    "Mosaiclist=[]\n",
    "imglist=[]"
   ]
  },
  {
   "cell_type": "code",
   "execution_count": 172,
   "metadata": {
    "scrolled": false
   },
   "outputs": [],
   "source": [
    "for i in ImageList[0]:\n",
    "    imgindex=ImageList[0].index(i)\n",
    "    mozaikname=ImageList[1][imgindex]\n",
    "    \n",
    "    imgboundary2=ImageBoundry(i)\n",
    "    gdf_mosaic = geopandas.read_file(imgboundary2[0])\n",
    "    gdfmosaic_geo=gdf_mosaic.geometry\n",
    "    dist=gdfmosaic_geo.distance(gdf.geometry)\n",
    "    for index,j in enumerate(dist,0):        \n",
    "        if j <0.5:\n",
    "           \n",
    "            imglist.append(ImgboundaryList[index])\n",
    "            \n",
    "            \n",
    "    Mosaiclist.append(imglist)\n",
    "    mosaicpath=\"D:/Aspect_Mozaik\"+ \"/\"+mozaikname+'.tif'\n",
    "    gdal.Warp(mosaicpath,imglist)\n",
    "    imglist=[]\n",
    "    \n",
    "    "
   ]
  },
  {
   "cell_type": "code",
   "execution_count": 106,
   "metadata": {},
   "outputs": [],
   "source": [
    "aspect_result=\"data/Aspect_Result\"\n"
   ]
  },
  {
   "cell_type": "code",
   "execution_count": 2,
   "metadata": {},
   "outputs": [],
   "source": [
    "#below code, we create .bat file for command line"
   ]
  },
  {
   "cell_type": "code",
   "execution_count": 119,
   "metadata": {},
   "outputs": [],
   "source": [
    "for index,i in enumerate(MozaikPath[0],0):\n",
    "    outputimg=aspect_result+\"/\"+MozaikPath[1][index]+\".tif\"\n",
    "    aspect_code= \"gdaldem aspect\"+ \" \"+ i + \" \"+ outputimg + \" \"+ \"-of GTiff -b 1 -zero_for_flat -compute_edges\"\n",
    "    with open(r'data/aspect_calculation.bat', 'a') as the_file:\n",
    "        the_file.write(aspect_code+\"\\n\")\n",
    "\n",
    "    "
   ]
  },
  {
   "cell_type": "code",
   "execution_count": null,
   "metadata": {},
   "outputs": [],
   "source": []
  }
 ],
 "metadata": {
  "kernelspec": {
   "display_name": "Python 3",
   "language": "python",
   "name": "python3"
  },
  "language_info": {
   "codemirror_mode": {
    "name": "ipython",
    "version": 3
   },
   "file_extension": ".py",
   "mimetype": "text/x-python",
   "name": "python",
   "nbconvert_exporter": "python",
   "pygments_lexer": "ipython3",
   "version": "3.7.2"
  }
 },
 "nbformat": 4,
 "nbformat_minor": 2
}
