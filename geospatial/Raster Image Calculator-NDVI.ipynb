{
 "cells": [
  {
   "cell_type": "code",
   "execution_count": 7,
   "metadata": {},
   "outputs": [],
   "source": [
    "# Raster calculator for notebook. If you have images that have stack image(3 bands in 1 image); \n",
    "#first, read image band by band and give the different band for input \n",
    "#ds1 = gdal.Open(nir, GA_ReadOnly )\n",
    "#band1 = ds1.GetRasterBand(1) #red band \n",
    "#band2=ds1.GetRasterBand(4)   #nir band "
   ]
  },
  {
   "cell_type": "code",
   "execution_count": 237,
   "metadata": {},
   "outputs": [],
   "source": [
    "from osgeo import gdal\n",
    "from osgeo.gdalnumeric import *\n",
    "from osgeo.gdalconst import *\n",
    "import pandas as pd\n",
    "import numpy as np\n",
    "import time"
   ]
  },
  {
   "cell_type": "code",
   "execution_count": 1,
   "metadata": {},
   "outputs": [],
   "source": [
    "def ListofExtensionAndName(directory,extension):\n",
    "     \n",
    "        if len(directory) != None:\n",
    "            import os\n",
    "            FilesList = []\n",
    "            FileName=[]\n",
    "            for root, subdirectory, files in os.walk(directory):\n",
    "                for file in files:\n",
    "                    if file.endswith(extension):\n",
    "                        FilesList.append(os.path.join(root,file))\n",
    "                        base=os.path.basename(file)\n",
    "                        FileName.append(os.path.splitext(base)[0])\n",
    "\n",
    "            return FilesList,FileName\n",
    "        else:\n",
    "            print(\"no\"+ extension +\"file for this directory\")"
   ]
  },
  {
   "cell_type": "code",
   "execution_count": 233,
   "metadata": {},
   "outputs": [],
   "source": [
    "nir_list=ListofExtensionAndName('','TIF')\n"
   ]
  },
  {
   "cell_type": "code",
   "execution_count": 234,
   "metadata": {},
   "outputs": [],
   "source": [
    "red_list=ListofExtensionAndName('','TIF')\n"
   ]
  },
  {
   "cell_type": "code",
   "execution_count": null,
   "metadata": {},
   "outputs": [],
   "source": [
    "start_time = time.time()\n",
    "for index,(red,nir) in enumerate(zip(red_list[0],nir_list[0]),0):\n",
    "\n",
    "    #Open the dataset\n",
    "    #NIR band\n",
    "    ds1 = gdal.Open(nir, GA_ReadOnly )\n",
    "    band1 = ds1.GetRasterBand(1)\n",
    "    #red band\n",
    "    ds2 = gdal.Open(red, GA_ReadOnly )\n",
    "    band2=ds2.GetRasterBand(1)\n",
    "    \n",
    "    #Read the data into numpy arrays\n",
    "    data1 = BandReadAsArray(band1)\n",
    "    data1=data1.astype(float32)\n",
    "    data2 = BandReadAsArray(band2)\n",
    "    data2=data2.astype(float32)\n",
    "    \n",
    "    #Allow 0 division in numpy\n",
    "    np.seterr(divide='ignore', invalid='ignore')\n",
    "    check = np.logical_or ( data1 > 0, data2 > 0 )\n",
    "    dataOut = np.empty(data1.shape, dtype=np.float32)\n",
    "    #The actual calculation\n",
    "    #NDVI\n",
    "    dataOut = np.where ( check,  (data1 - data2 ) / ( data1 + data2 ), 0 )\n",
    "    \n",
    "    output_path=r'../data/sample.tif'\n",
    "    \n",
    "    #define nodata value for output image\n",
    "    NoData_value = 0\n",
    "    #Write the out file\n",
    "    driver = gdal.GetDriverByName(\"GTiff\")\n",
    "    dsOut = driver.Create(output_path, ds1.RasterXSize, ds1.RasterYSize, 1, gdal.GDT_Float32)\n",
    "    CopyDatasetInfo(ds1,dsOut)\n",
    "    bandOut=dsOut.GetRasterBand(1)\n",
    "    bandOut.SetNoDataValue(NoData_value)\n",
    "    BandWriteArray(bandOut, dataOut)\n",
    "    #Close the datasets\n",
    "    band1 = None\n",
    "    band2 = None\n",
    "    ds1 = None\n",
    "    bandOut = None\n",
    "    dsOut = None\n",
    "    \n",
    "    \n",
    "print(\"--- %s seconds ---\" % (time.time() - start_time))\n"
   ]
  }
 ],
 "metadata": {
  "kernelspec": {
   "display_name": "Python 3",
   "language": "python",
   "name": "python3"
  },
  "language_info": {
   "codemirror_mode": {
    "name": "ipython",
    "version": 3
   },
   "file_extension": ".py",
   "mimetype": "text/x-python",
   "name": "python",
   "nbconvert_exporter": "python",
   "pygments_lexer": "ipython3",
   "version": "3.7.2"
  }
 },
 "nbformat": 4,
 "nbformat_minor": 2
}
