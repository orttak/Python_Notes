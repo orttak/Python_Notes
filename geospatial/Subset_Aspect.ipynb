{
 "cells": [
  {
   "cell_type": "code",
   "execution_count": 1,
   "metadata": {},
   "outputs": [],
   "source": [
    "from osgeo import gdal,ogr\n",
    "import pandas as pd\n",
    "import geopandas\n",
    "from shapely import wkt\n",
    "import utm\n",
    "import os\n",
    "import fiona\n",
    "import rasterio\n",
    "import rasterio.mask"
   ]
  },
  {
   "cell_type": "code",
   "execution_count": 50,
   "metadata": {},
   "outputs": [],
   "source": [
    "def ListofExtensionAndName(directory,extension):\n",
    "     \n",
    "        if len(directory) != None:\n",
    "            import os\n",
    "            FilesList = []\n",
    "            FileName=[]\n",
    "            for root, subdirectory, files in os.walk(directory):\n",
    "                for file in files:\n",
    "                    if file.endswith(extension):\n",
    "                        FilesList.append(os.path.join(root,file))\n",
    "                        base=os.path.basename(file)\n",
    "                        FileName.append(os.path.splitext(base)[0])\n",
    "\n",
    "            return FilesList,FileName\n",
    "        else:\n",
    "            print(\"no\"+ extension +\"file for this directory\")"
   ]
  },
  {
   "cell_type": "code",
   "execution_count": 51,
   "metadata": {},
   "outputs": [],
   "source": [
    "def ImageBoundry(FilePath):\n",
    "\n",
    "        from osgeo import gdal,ogr\n",
    "        ds = gdal.Open(FilePath)\n",
    "        gt = ds.GetGeoTransform()  # captures origin and pixel size\n",
    "\n",
    "        ULC = gdal.ApplyGeoTransform(gt, 0, 0) #Upper Left Corner\n",
    "        URC = gdal.ApplyGeoTransform(gt, ds.RasterXSize, 0) #Upper Right Corner\n",
    "        LLC = gdal.ApplyGeoTransform(gt, 0, ds.RasterYSize) #Lower Left Corner\n",
    "        LRC = gdal.ApplyGeoTransform(gt, ds.RasterXSize, ds.RasterYSize) #Lower Right Corner\n",
    "                   \n",
    "        ring = ogr.Geometry(ogr.wkbLinearRing)\n",
    "        ring.AddPoint_2D(ULC[0], ULC[1])\n",
    "        ring.AddPoint_2D(URC[0], URC[1])\n",
    "        ring.AddPoint_2D(LRC[0], LRC[1])\n",
    "        ring.AddPoint_2D(LLC[0], LLC[1])\n",
    "        ring.AddPoint_2D(ULC[0], ULC[1]) \n",
    "        poly=ogr.Geometry(ogr.wkbPolygon)\n",
    "        poly.AddGeometry(ring)\n",
    "        poly.ExportToJson\n",
    "        return poly.ExportToJson()"
   ]
  },
  {
   "cell_type": "code",
   "execution_count": 174,
   "metadata": {},
   "outputs": [],
   "source": [
    "def ImageBoundry_for_Gdal(FilePath):\n",
    "        #for aspect data\n",
    "        #imgname=FilePath\n",
    "\n",
    "        from osgeo import gdal,ogr\n",
    "        ds = gdal.Open(FilePath)\n",
    "        gt = ds.GetGeoTransform()  # captures origin and pixel size\n",
    "\n",
    "        ULC = gdal.ApplyGeoTransform(gt, 0, 0) #Upper Left Corner\n",
    "        URC = gdal.ApplyGeoTransform(gt, ds.RasterXSize, 0) #Upper Right Corner\n",
    "        LLC = gdal.ApplyGeoTransform(gt, 0, ds.RasterYSize) #Lower Left Corner\n",
    "        LRC = gdal.ApplyGeoTransform(gt, ds.RasterXSize, ds.RasterYSize) #Lower Right Corner\n",
    "                   \n",
    "        ring = ogr.Geometry(ogr.wkbLinearRing)\n",
    "        ring.AddPoint_2D(ULC[0], ULC[1])\n",
    "        ring.AddPoint_2D(URC[0], URC[1])\n",
    "        ring.AddPoint_2D(LRC[0], LRC[1])\n",
    "        ring.AddPoint_2D(LLC[0], LLC[1])\n",
    "        ring.AddPoint_2D(ULC[0], ULC[1]) \n",
    "        poly=ogr.Geometry(ogr.wkbPolygon)\n",
    "        poly.AddGeometry(ring)\n",
    "        poly.ExportToJson\n",
    "        return ULC[0],ULC[1],LRC[0],LRC[1]"
   ]
  },
  {
   "cell_type": "code",
   "execution_count": 123,
   "metadata": {},
   "outputs": [],
   "source": [
    "Targetimage=r\"D:/Aspect_Result\"  #mosaic aspect\n",
    "SlopeSubset=r\"D:/Aspect_result_subset\"  #subset image path\n",
    "RawImagePath=r\"D://elevation_data\" #raw dem data for getting extention"
   ]
  },
  {
   "cell_type": "code",
   "execution_count": 124,
   "metadata": {},
   "outputs": [],
   "source": [
    "SubsetListName=ListofExtensionAndName(Targetimage,\"tif\")[1]\n"
   ]
  },
  {
   "cell_type": "code",
   "execution_count": 176,
   "metadata": {},
   "outputs": [
    {
     "data": {
      "text/plain": [
       "'EarthEnv-DEM90_N80W105'"
      ]
     },
     "execution_count": 176,
     "metadata": {},
     "output_type": "execute_result"
    }
   ],
   "source": [
    "SubsetListName[293]"
   ]
  },
  {
   "cell_type": "code",
   "execution_count": null,
   "metadata": {},
   "outputs": [],
   "source": [
    "for i in SubsetListName[0:294]:\n",
    "    rawimagepath=RawImagePath+\"/\"+i+\".tif\"\n",
    "    targetimagepath=Targetimage+\"/\"+i+\".tif\"\n",
    "    subsetimagepath=SlopeSubset+\"/\"+i+\".tif\"\n",
    "    print(\"----Target Image-----\")\n",
    "    print(targetimagepath)\n",
    "       \n",
    "    boundry=ImageBoundry_for_Gdal(rawimagepath)\n",
    "    \n",
    "    print(boundry)\n",
    "    print(\"-------------------\")\n",
    "    gdal.Translate(subsetimagepath,targetimagepath,projWin=[boundry[0],boundry[1],boundry[2],boundry[3]])\n",
    "\n",
    "    "
   ]
  },
  {
   "cell_type": "markdown",
   "metadata": {},
   "source": [
    "## Subset With Rasterio"
   ]
  },
  {
   "cell_type": "code",
   "execution_count": null,
   "metadata": {},
   "outputs": [],
   "source": [
    "for i in SubsetListName:\n",
    "    rawimagepath=RawImagePath+\"\\\\\"+i+\".tif\"\n",
    "    targetimagepath=Targetimage+\"\\\\\"+i+\".tif\"\n",
    "    subsetimagepath=SlopeSubset+\"\\\\\"+i+\".tif\"\n",
    "    print(rawimagepath)\n",
    "    imageboundry_subset=ImageBoundry(rawimagepath) #get the boudry\n",
    "    gdf = geopandas.read_file(imageboundry_subset)\n",
    "    geom_gdf=gdf.geometry\n",
    "\n",
    "    print(geom_gdf.crs)\n",
    "    #geom_gdf.to_file(SlopeSubset+i, driver='ESRI Shapefile', schema=None,)\n",
    "\n",
    "    print(subsetimagepath)\n",
    "    with rasterio.open(targetimagepath) as src:\n",
    "        #open target image\n",
    "        out_image, out_transform = rasterio.mask.mask(src, geom_gdf,\n",
    "                                                      crop=True) #subset the image according to new extend\n",
    "        \n",
    "    #if we now the shape, we should define \n",
    "    #height= 6001\n",
    "    #width=6001\n",
    "    out_meta = src.meta.copy()\n",
    "    out_meta.update({\"driver\": \"GTiff\",\n",
    "                 \"height\": out_image.shape[1],\n",
    "                 \"width\": out_image.shape[2],\n",
    "                 \"transform\": out_transform})\n",
    "    with rasterio.open(subsetimagepath, \"w\", **out_meta) as dest:\n",
    "        dest.write(out_image) #save the new subset image\n",
    "\n",
    "    "
   ]
  }
 ],
 "metadata": {
  "kernelspec": {
   "display_name": "Python 3",
   "language": "python",
   "name": "python3"
  },
  "language_info": {
   "codemirror_mode": {
    "name": "ipython",
    "version": 3
   },
   "file_extension": ".py",
   "mimetype": "text/x-python",
   "name": "python",
   "nbconvert_exporter": "python",
   "pygments_lexer": "ipython3",
   "version": "3.7.2"
  }
 },
 "nbformat": 4,
 "nbformat_minor": 2
}
